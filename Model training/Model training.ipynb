{
 "cells": [
  {
   "cell_type": "markdown",
   "metadata": {},
   "source": [
    "# Preprocessing\n",
    "Sentence preprocessing - for each word POS tag and lemma are created"
   ]
  },
  {
   "cell_type": "code",
   "execution_count": 1,
   "metadata": {
    "collapsed": true
   },
   "outputs": [],
   "source": [
    "import nltk\n",
    "from nltk import sent_tokenize\n",
    "from nltk import word_tokenize\n",
    "from nltk.stem.wordnet import WordNetLemmatizer\n",
    "from nltk.corpus import wordnet as wn\n",
    "\n",
    "def is_noun(tag):\n",
    "    return tag in ['NN', 'NNS', 'NNP', 'NNPS']\n",
    "\n",
    "\n",
    "def is_verb(tag):\n",
    "    return tag in ['VB', 'VBD', 'VBG', 'VBN', 'VBP', 'VBZ']\n",
    "\n",
    "\n",
    "def is_adverb(tag):\n",
    "    return tag in ['RB', 'RBR', 'RBS']\n",
    "\n",
    "\n",
    "def is_adjective(tag):\n",
    "    return tag in ['JJ', 'JJR', 'JJS']\n",
    "\n",
    "\n",
    "def penn_to_wn(tag):\n",
    "    if is_adjective(tag):\n",
    "        return wn.ADJ\n",
    "    elif is_noun(tag):\n",
    "        return wn.NOUN\n",
    "    elif is_adverb(tag):\n",
    "        return wn.ADV\n",
    "    elif is_verb(tag):\n",
    "        return wn.VERB\n",
    "    return wn.NOUN\n",
    "\n",
    "l = WordNetLemmatizer()\n",
    "def preprocess_sentence(sentence):\n",
    "    tagged_sent = nltk.pos_tag(sentence)\n",
    "    lemma_sent = []\n",
    "    for tagged_word in tagged_sent:\n",
    "        lemma_sent.append((tagged_word[0], tagged_word[1], l.lemmatize(tagged_word[0], penn_to_wn(tagged_word[1]))))\n",
    "    return lemma_sent"
   ]
  },
  {
   "cell_type": "markdown",
   "metadata": {},
   "source": [
    "NER preprocessing - for each sentence NER tags are generated. NER tags are PERSON, LOCATION and ORGANIZATION.\n",
    "Brown and Reuters datasets were used. Code below is same for both with one difference - for Reuters dataset sentence had to have at least two named entities for it to be included in data for annotation (function `sentence_has_potential_relation`), while in Brown dataset sentence had to have at least two PERSON entities (function `sentence_has_potential_inter_person_relation`). Latter heuristic was chosen because of lack of inter-person relations in Reuters dataset."
   ]
  },
  {
   "cell_type": "code",
   "execution_count": null,
   "metadata": {
    "collapsed": true
   },
   "outputs": [],
   "source": [
    "from nltk.corpus import reuters\n",
    "from nltk.corpus import brown\n",
    "from nltk.tokenize import sent_tokenize\n",
    "from nltk.tokenize import word_tokenize\n",
    "from nltk.tag.stanford import StanfordNERTagger\n",
    "import random\n",
    "\n",
    "DATASET = brown #reuters \n",
    "filename = 'sentences_brown.txt' #'sentences_reuters.txt'\n",
    "max_number_sentences = 2500\n",
    "categories = ['news', 'editorial', 'religion', 'hobbies', 'lore', 'adventure', 'romance', 'humor'] #[]\n",
    "\n",
    "def sentence_has_potential_relation(sentence):\n",
    "    NE_number = 0\n",
    "    in_sequence = False\n",
    "    for tags in sentence:\n",
    "        if tags[1] != \"O\":\n",
    "            if not in_sequence:\n",
    "                NE_number += 1\n",
    "                in_sequence = True\n",
    "        else:\n",
    "            in_sequence = False\n",
    "    if NE_number >= 2:\n",
    "        return True\n",
    "    return False\n",
    "\n",
    "def sentence_has_potential_inter_person_relation(sentence):\n",
    "    person_number = 0\n",
    "    in_sequence = False\n",
    "    for tags in sentence:\n",
    "        if tags[1] == \"PERSON\":\n",
    "            if not in_sequence:\n",
    "                person_number += 1\n",
    "                in_sequence = True\n",
    "        else:\n",
    "            in_sequence = False\n",
    "    if person_number >= 2:\n",
    "        return True\n",
    "    return False\n",
    "\n",
    "st = StanfordNERTagger(\"../stanford-ner-2015-12-09/classifiers/english.all.3class.distsim.crf.ser.gz\", \n",
    "                      \"../stanford-ner-2015-12-09/stanford-ner.jar\")\n",
    "\n",
    "processed_documents = []\n",
    "file_ids = DATASET.fileids(categories=categories)\n",
    "document_number = len(file_ids)\n",
    "num_of_nonNE_sentences = 0\n",
    "num_of_sentences = 0\n",
    "\n",
    "sentences_for_write = []\n",
    "\n",
    "try:\n",
    "    index = -1\n",
    "    while num_of_sentences < max_number_sentences:\n",
    "        sentences = []\n",
    "        while num_of_sentences < max_number_sentences:\n",
    "            #index = random.randrange(0,document_number-1,1)\n",
    "            index = index + 1\n",
    "            if len(processed_documents) == document_number:\n",
    "                raise Exception(\"Ponestalo dokumenata\")\n",
    "            if index in processed_documents:\n",
    "                continue\n",
    "            processed_documents.append(index)\n",
    "            local_sentences = DATASET.sents(file_ids[index])\n",
    "            num_of_sentences += len(local_sentences)\n",
    "            sentences.extend(local_sentences)\n",
    "\n",
    "        tagged_sentences = st.tag_sents(sentences)\n",
    "\n",
    "        for sentence in tagged_sentences:\n",
    "            if not sentence_has_potential_inter_person_relation(sentence):\n",
    "                num_of_sentences -= 1\n",
    "                continue\n",
    "            preprocessed_sentence = preprocess_sentence([x[0] for x in sentence])\n",
    "            preprocessed_sentence = [x+(y[1], ) for x, y in zip(preprocessed_sentence, sentence)]\n",
    "            sentences_for_write.append(preprocessed_sentence)\n",
    "except Exception as e:\n",
    "    print(e)\n",
    "    \n",
    "with open(filename, mode='w', encoding='utf-8') as sentences_file:\n",
    "    for sentence in sentences_for_write:\n",
    "        for word in sentence:\n",
    "            sentences_file.write(word[0] + \"\\t\" + word[1] + \"\\t\" + word[2] + \"\\t\" + word[3] + \"\\n\")\n",
    "        sentences_file.write(\"\\n\")"
   ]
  },
  {
   "cell_type": "markdown",
   "metadata": {},
   "source": [
    "## File format\n",
    "Each row is in following format:\n",
    "```\n",
    "SENTENCE_NUM  WORD_NUM  WORD  POS_TAG  LEMMA  NER_TAG\n",
    "```\n",
    "Delimiter is \\t. Below is script for adding ordinal numbers to sentences and words."
   ]
  },
  {
   "cell_type": "code",
   "execution_count": null,
   "metadata": {
    "collapsed": true
   },
   "outputs": [],
   "source": [
    "with open('sentences_brown.txt', mode='r', encoding='utf-8') as sentences_file, open('sentences_brown_for_annotation.txt', mode='w', encoding='utf-8') as ann_file:\n",
    "    broj_recenice = 0\n",
    "    broj_rijeci = 0\n",
    "    for line in sentences_file:\n",
    "        if line == \"\\n\":\n",
    "            broj_recenice += 1\n",
    "            broj_rijeci = 0\n",
    "            ann_file.write(\"\\n\\n\")\n",
    "            continue\n",
    "        ann_file.write(str(broj_recenice) + \"\\t\" + str(broj_rijeci) + \"\\t\" + line)\n",
    "        broj_rijeci += 1"
   ]
  },
  {
   "cell_type": "markdown",
   "metadata": {},
   "source": [
    "Function for post-annotation creation of POS and lemma tags:"
   ]
  },
  {
   "cell_type": "code",
   "execution_count": 2,
   "metadata": {
    "collapsed": true
   },
   "outputs": [],
   "source": [
    "def preprocess_annotated_data(data):\n",
    "    for instance in data:\n",
    "        sentence = instance[\"sentence\"]\n",
    "        preprocessed_sentence = preprocess_sentence([x[0] if x[0] != \"\" else \" \" for x in sentence])  #nltk problem s praznim stringom\n",
    "        instance[\"sentence\"] = [x + (y[1], ) for x, y in zip(preprocessed_sentence, sentence)]\n",
    "    return data"
   ]
  },
  {
   "cell_type": "markdown",
   "metadata": {},
   "source": [
    "## Training\n",
    "Function for loading data from file. Sentence data format is following:\n",
    "```\n",
    "{\n",
    "\"sentence\": [(WORD, POS_TAG, LEMMA, NER_TAG), ...]\n",
    "\"relations\": [(NER1_INDEX, NER2_INDEX, TYPE), ...]\n",
    "}\n",
    "```"
   ]
  },
  {
   "cell_type": "code",
   "execution_count": 3,
   "metadata": {
    "collapsed": true
   },
   "outputs": [],
   "source": [
    "def load_data(filename):\n",
    "    relation_definition = False\n",
    "    data = []\n",
    "    with open(filename, \"r\") as f:\n",
    "        sentence, relations = [], []\n",
    "        for line in f:\n",
    "            line = line.strip()\n",
    "            if line == \"\":\n",
    "                if relation_definition:\n",
    "                    data.append({\"sentence\": sentence, \"relations\": relations})\n",
    "                    sentence, relations = [], []\n",
    "                    relation_definition = False\n",
    "                else:\n",
    "                    relation_definition = True\n",
    "            elif relation_definition == False:\n",
    "                line = line.split(\"\\t\")\n",
    "                sentence.append(tuple(line[2:]))\n",
    "            else:\n",
    "                line = line.split(\"\\t\")\n",
    "                line[0] = int(line[0])\n",
    "                line[1] = int(line[1])\n",
    "                relations.append(tuple(line))\n",
    "    return data"
   ]
  },
  {
   "cell_type": "markdown",
   "metadata": {},
   "source": [
    "Code below loads annotated Reuters data, makes preprocessing steps and then loads annotated Brown data:"
   ]
  },
  {
   "cell_type": "code",
   "execution_count": 4,
   "metadata": {
    "collapsed": false
   },
   "outputs": [
    {
     "name": "stdout",
     "output_type": "stream",
     "text": [
      "Number of relations:  1902 Number of sentences:  2373\n"
     ]
    }
   ],
   "source": [
    "data = load_data(\"training_data_1.txt\")\n",
    "data = preprocess_annotated_data(data)\n",
    "data.extend(load_data(\"training_data_2.txt\"))\n",
    "print(\"Number of relations: \", sum([len(x[\"relations\"]) for x in data]), \"Number of sentences: \", len(data))"
   ]
  },
  {
   "cell_type": "markdown",
   "metadata": {},
   "source": [
    "Functions for creating all possible relations in sentence.\n",
    "- `extract_all_entities` - extracts all entities from sentence in format `(ENTITY_START_INDEX, ENTITY_LENGTH)`\n",
    "- `generate_entity_pairs` - creates all entity pairs\n",
    "- `normalize_relations` - by convention all relations are between first and second encountered entity. If some relation is reversed, map it to adequate replacement.\n",
    "- `create_relations` - creates relations in format `((ENTITY1_START_INDEX, ENTITY1_LENGTH), (ENTITY2_START_INDEX, ENTITY2_LENGTH), RELATION_TYPE`. For entity combinations that are not annotated, relation is `None`."
   ]
  },
  {
   "cell_type": "code",
   "execution_count": 5,
   "metadata": {
    "collapsed": true
   },
   "outputs": [],
   "source": [
    "from itertools import combinations\n",
    "\n",
    "def extract_all_entities(sentence):\n",
    "    entities = []\n",
    "    entity_length = 0\n",
    "    in_entity = False\n",
    "    for i in range(len(sentence)):\n",
    "        word = sentence[i]\n",
    "        if word[3] != \"O\":  #ako smo na rijeci koja je oznacena kao dio named entititija\n",
    "            if in_entity == False:  #ako do sad nismo bili inicijaliziraj sve\n",
    "                in_entity = True\n",
    "                entity_index = i\n",
    "                entity_length = 1\n",
    "            elif word[3] == sentence[entity_index][3]:  #ako je rijec dio named entitija kojeg brojimo\n",
    "                entity_length += 1\n",
    "            else: #ili dio drugog named entitija odmah do prvog\n",
    "                entities.append((entity_index, entity_length))\n",
    "                entity_index = i\n",
    "                entity_length = 1\n",
    "        elif in_entity == True:  #ako smo izasli iz named entitija\n",
    "            in_entity = False\n",
    "            entities.append((entity_index, entity_length))\n",
    "    return entities\n",
    "\n",
    "def generate_entity_pairs(entities):\n",
    "    return [x for x in combinations(entities, 2)]\n",
    "\n",
    "def normalize_relations(relations, mapping={\"parentOrganization\": \"subOrganization\", \"containsPlace\": \"containedInPlace\", \"memberOf\": \"member\", \"children\": \"parent\", \"brand\": \"isBrandOf\"}):\n",
    "    relations = list(relations)\n",
    "    for i in range(len(relations)):\n",
    "        if relations[i][0] > relations[i][1]:\n",
    "            relations[i] = (relations[i][1], relations[i][0], mapping.get(relations[i][2], relations[i][2]))\n",
    "    return relations\n",
    "\n",
    "def create_relations(sentence_with_relations):\n",
    "    entities = extract_all_entities(sentence_with_relations[\"sentence\"])\n",
    "    annotated_relations = normalize_relations(sentence_with_relations.get(\"relations\", []))\n",
    "    relations = generate_entity_pairs(entities)\n",
    "    for i in range(len(relations)):\n",
    "        relation = relations[i]\n",
    "        search = [x for x in annotated_relations if x[0] == relation[0][0] and x[1] == relation[1][0]]\n",
    "        if len(search) > 0:\n",
    "            relations[i] = relations[i] + (search[0][2],)\n",
    "        else:\n",
    "            relations[i] = relations[i] + (\"None\",)\n",
    "    return relations"
   ]
  },
  {
   "cell_type": "markdown",
   "metadata": {},
   "source": [
    "Relation statistics and visualization:"
   ]
  },
  {
   "cell_type": "code",
   "execution_count": 10,
   "metadata": {
    "collapsed": false
   },
   "outputs": [
    {
     "name": "stdout",
     "output_type": "stream",
     "text": [
      "Entity num:  {'ORGANIZATION': 3016, 'PERSON': 2413, 'LOCATION': 1967}\n",
      "Relation num:  {'parentOrganization': 67, 'spouse': 35, 'subOrganization': 169, 'memberOf': 1, 'relatedTo': 50, 'employee': 334, 'homeLocation': 223, 'isBrandOf': 4, 'member': 9, 'children': 17, 'nationality': 20, 'location': 194, 'containedInPlace': 119, 'containsPlace': 19, 'knows': 159, 'colleague': 404, 'parent': 19, 'brand': 59}\n",
      "Number of lost positive relations with limit  10  :  363\n",
      "Remaining positive relations  1529\n",
      "Number of lost negative relations with limit  10  :  4534\n",
      "Remaining negative relations  4045\n"
     ]
    },
    {
     "data": {
      "image/png": "[encoded data removed]",
      "text/plain": [
       "<matplotlib.figure.Figure at 0x65005368d0>"
      ]
     },
     "metadata": {},
     "output_type": "display_data"
    },
    {
     "data": {
      "image/png": "[encoded data removed]",
      "text/plain": [
       "<matplotlib.figure.Figure at 0x65000537b8>"
      ]
     },
     "metadata": {},
     "output_type": "display_data"
    },
    {
     "data": {
      "image/png": "[encoded data removed]",
      "text/plain": [
       "<matplotlib.figure.Figure at 0x6500bcea58>"
      ]
     },
     "metadata": {},
     "output_type": "display_data"
    }
   ],
   "source": [
    "import matplotlib.pyplot as plt\n",
    "%matplotlib inline\n",
    "\n",
    "def extract_entity_count(data):\n",
    "    entity_count = {}\n",
    "    for row in data:\n",
    "        sentence = row[\"sentence\"]\n",
    "        entities = extract_all_entities(sentence)\n",
    "        for entity in entities:\n",
    "            entity_type = sentence[entity[0]][3]\n",
    "            entity_count[entity_type] = entity_count.get(entity_type, 0) + 1\n",
    "    return entity_count\n",
    "\n",
    "entity_count = extract_entity_count(data)\n",
    "print(\"Entity num: \", entity_count)\n",
    "plt.bar([i+1 for i in range(len(entity_count.keys()))], entity_count.values(), 0.5, alpha=0.5)\n",
    "plt.xticks([i+1.25 for i in range(len(entity_count.keys()))], entity_count.keys())\n",
    "for i, value in enumerate(entity_count.values()):\n",
    "    plt.text(i+1.16, value-100, str(value))\n",
    "    \n",
    "plt.figure(figsize=(20, 7))\n",
    "\n",
    "def extract_relation_count(data):\n",
    "    relation_count = {}\n",
    "    for row in data:\n",
    "        relations = normalize_relations(row[\"relations\"])\n",
    "        for relation in relations:\n",
    "            relation_type = relation[2]\n",
    "            relation_count[relation_type] = relation_count.get(relation_type, 0) + 1\n",
    "    return relation_count\n",
    "\n",
    "relation_count = extract_relation_count(data)\n",
    "print(\"Relation num: \", relation_count)\n",
    "plt.bar([8*i for i in range(len(relation_count.keys()))], relation_count.values(), 1.5, alpha=0.5)\n",
    "plt.xticks([8*i+1 for i in range(len(relation_count.keys()))], relation_count.keys())\n",
    "for i, value in enumerate(relation_count.values()):\n",
    "    plt.text(8*i+0.2, value-1, str(value))\n",
    "    \n",
    "def count_distance(sentences):\n",
    "    count_pos, count_neg = {}, {}\n",
    "    for sentence in sentences:\n",
    "        for relation in create_relations(sentence):\n",
    "            distance = relation[1][0] - (relation[0][0] + relation[0][1])\n",
    "            if relation[2] == \"None\":\n",
    "                count_neg[distance] = count_neg.get(distance, 0) + 1\n",
    "                continue\n",
    "            count_pos[distance] = count_pos.get(distance, 0) + 1\n",
    "    return count_pos, count_neg\n",
    "        \n",
    "def plot_distance(count_pos, count_neg):\n",
    "    plt.figure(figsize=(14, 6))\n",
    "    plt.xlim((0,80))\n",
    "    handle1, = plt.plot([x for x in count_pos.keys()], [x for x in count_pos.values()], label=\"Positive relations\")\n",
    "    handle2, = plt.plot([x for x in count_neg.keys()], [x for x in count_neg.values()], \"r\", label=\"Negative relations\")\n",
    "    plt.legend([handle1, handle2], [\"Positive relations\", \"Negative relations\"])\n",
    "    \n",
    "count_pos, count_neg = count_distance(data)\n",
    "plot_distance(count_pos, count_neg)\n",
    "limit = 10\n",
    "print(\"Number of lost positive relations with limit \", limit, \" : \", sum([value for key, value in count_pos.items() if key > limit]))\n",
    "print(\"Remaining positive relations \", sum([value for key, value in count_pos.items() if key <= limit]))\n",
    "print(\"Number of lost negative relations with limit \", limit, \" : \", sum([value for key, value in count_neg.items() if key > limit]))\n",
    "print(\"Remaining negative relations \", sum([value for key, value in count_neg.items() if key <= limit]))"
   ]
  },
  {
   "cell_type": "markdown",
   "metadata": {},
   "source": [
    "Feature generation:"
   ]
  },
  {
   "cell_type": "code",
   "execution_count": 11,
   "metadata": {
    "collapsed": true
   },
   "outputs": [],
   "source": [
    "def generate_features(sentence_with_relations):\n",
    "    instances = []\n",
    "    sentence = sentence_with_relations[\"sentence\"]\n",
    "    for relation in create_relations(sentence_with_relations):\n",
    "        instance = {}\n",
    "        instance[\"NE1_type\"] = sentence[relation[0][0]][3]\n",
    "        instance[\"NE1_length\"] = relation[0][1]\n",
    "        instance[\"NE2_type\"] = sentence[relation[1][0]][3]\n",
    "        instance[\"NE2_length\"] = relation[1][1]\n",
    "        instance[\"distance\"] = relation[1][0] - (relation[0][0] + relation[0][1])\n",
    "        instance[\"word1_type\"] = sentence[relation[0][0]][1]\n",
    "        instance[\"word2_type\"] = sentence[relation[1][0]][1]\n",
    "        \n",
    "        generate_sorounding_words_features(instance, relation, sentence)\n",
    "        generate_NE_overlap_features(instance, relation, sentence)\n",
    "        generate_NE_position_features(instance, relation, sentence)\n",
    "        generate_family_relation_features(instance, relation, sentence)\n",
    "        generate_organization_relation_features(instance, relation, sentence)\n",
    "        generate_syntax_features(instance, relation, sentence)\n",
    "        instances.append((instance, relation[2]))\n",
    "    return instances\n",
    "\n",
    "def generate_sorounding_words_features(instance, relation, sentence): #employee\n",
    "    if relation[0][0] - 1 < 0:\n",
    "        instance[\"word1_before_type\"] = \"\"\n",
    "    else:\n",
    "        instance[\"word1_before_type\"] = sentence[relation[0][0] - 1][1]\n",
    "    instance[\"word1_after_type\"] = sentence[relation[0][0] + relation[0][1]][1]\n",
    "    instance[\"word2_before_type\"] = sentence[relation[1][0] - 1][1]\n",
    "    if relation[1][0] + relation[1][1] >= len(sentence):\n",
    "        instance[\"word2_after_type\"] = \"\"\n",
    "    else:\n",
    "        instance[\"word2_after_type\"] = sentence[relation[1][0] + relation[1][1]][1]\n",
    "        \n",
    "def generate_NE_overlap_features(instance, relation, sentence): #spouse\n",
    "    NE1, NE2 = set(), set()\n",
    "    for i in range(relation[0][1]):\n",
    "        NE1.add(sentence[relation[0][0] + i][2].lower())\n",
    "    for i in range(relation[1][1]):\n",
    "        NE2.add(sentence[relation[1][0] + i][2].lower())\n",
    "    NE_common = NE1.intersection(NE2)\n",
    "    instance[\"common_NE_words\"] = len(NE_common) > 0\n",
    "    \n",
    "def generate_NE_position_features(instance, relation, sentence):\n",
    "    words_between = set()\n",
    "    for i in range(relation[0][0] + relation[0][1], relation[1][0]):\n",
    "        words_between.add(sentence[i][3])\n",
    "    instance[\"location_between\"] = \"LOCATION\" in words_between\n",
    "    instance[\"person_between\"] = \"PERSON\" in words_between\n",
    "    instance[\"organization_between\"] = \"ORGANIZATION\" in words_between\n",
    "    \n",
    "def generate_family_relation_features(instance, relation, sentence):\n",
    "    words_between = set()\n",
    "    family_keywords = {\"brother\", \"sister\", \"child\", \"mother\", \"father\", \"niece\", \"nephew\", \"daughter\", \"son\"}\n",
    "    spouse_relation_keywords = {\"husband\", \"wife\", \"romantic\", \"married\", \"marriage\", \"marry\", \"bride\", \"groom\"}\n",
    "    for i in range(relation[0][0] + relation[0][1], relation[1][0]):\n",
    "        words_between.add(sentence[i][2].lower())\n",
    "    instance[\"family_words_len\"] = len(words_between.intersection(family_keywords))\n",
    "    if instance[\"family_words_len\"] > 0:\n",
    "        instance[\"family_word\"] = words_between.intersection(family_keywords).pop()\n",
    "    else:\n",
    "        instance[\"family_word\"] = \"\"\n",
    "    instance[\"spouse_words_len\"] = len(words_between.intersection(spouse_relation_keywords))\n",
    "    if instance[\"spouse_words_len\"] > 0:\n",
    "        instance[\"spouse_word\"] = words_between.intersection(spouse_relation_keywords).pop()\n",
    "    else:\n",
    "        instance[\"spouse_word\"] = \"\"\n",
    "        \n",
    "def generate_organization_relation_features(instance, relation, sentence):\n",
    "    organization_keywords = {\"sell\", \"dollar\", \"purchase\", 'acquire', 'acquisition', 'affiliate', 'agree', 'agreement', 'arrangement', 'business', 'buy', 'buyer', 'company', 'corp', 'corporation', 'holding', 'investment', 'merge', 'merger', 'negotiation', 'ordinary', 'parent', 'part', 'partners', 'partnership', 'share', 'shareholder', 'specifically', 'subsidiary', 'takeover', 'tender'}\n",
    "    words_between = set()\n",
    "    for i in range(relation[0][0] + relation[0][1], relation[1][0]):\n",
    "        words_between.add(sentence[i][2].lower())\n",
    "    instance[\"organization_words_len\"] = len(words_between.intersection(organization_keywords))\n",
    "    \n",
    "def generate_syntax_features(instance, relation, sentence):\n",
    "    words_between = set()\n",
    "    for i in range(relation[0][0] + relation[0][1], relation[1][0]):\n",
    "        words_between.add(sentence[i][2])\n",
    "    instance[\"contains_separators\"] = len({\",\", \";\", \":\", \"-\", \"(\", \")\"}.intersection(words_between)) > 0"
   ]
  },
  {
   "cell_type": "markdown",
   "metadata": {},
   "source": [
    "Features that were tested but are not improving model accuracy:"
   ]
  },
  {
   "cell_type": "code",
   "execution_count": null,
   "metadata": {
    "collapsed": true
   },
   "outputs": [],
   "source": [
    "import numpy as np\n",
    "\n",
    "class MeanEmbeddingVectorizer(object):\n",
    "    def __init__(self, word2vec):\n",
    "        self.word2vec = word2vec\n",
    "        self.dim = len(next(iter(word2vec.values())))\n",
    "\n",
    "    def fit(self, X, y):\n",
    "        return self\n",
    "\n",
    "    def transform(self, X):\n",
    "        return np.array([\n",
    "            np.mean([self.word2vec[w] for w in words if w in self.word2vec]\n",
    "                    or [np.zeros(self.dim)], axis=0)\n",
    "            for words in X\n",
    "        ])\n",
    "\n",
    "with open(\"glove.6B.50d.txt\", \"rb\") as lines:\n",
    "    w2v = {line.split()[0]: np.array([x for x in map(float, line.split()[1:])])\n",
    "           for line in lines}\n",
    "\n",
    "mv = MeanEmbeddingVectorizer(w2v)\n",
    "\n",
    "def assume_distant_relations_are_none(instances):\n",
    "    new_instances = []\n",
    "    for instance in instances:\n",
    "        if instance[0][\"distance\"] <= 10:\n",
    "            new_instances.append(instance)\n",
    "    instances = new_instances"
   ]
  },
  {
   "cell_type": "code",
   "execution_count": null,
   "metadata": {
    "collapsed": true
   },
   "outputs": [],
   "source": [
    "def generate_NE_length_features(instance, relation, sentence):\n",
    "    for i in range(relation[0][0], relation[0][0] + relation[0][1]):\n",
    "        instance[\"word_length1\" + str(i)] = len(sentence[i][0])\n",
    "    for i in range(relation[1][0], relation[1][0] + relation[1][1]):\n",
    "        instance[\"word_length2\" + str(i)] = len(sentence[i][0])\n",
    "\n",
    "grammar = r\"\"\"\n",
    "      NP: {<DT|JJ|NN.*>+}          # Chunk sequences of DT, JJ, NN\n",
    "      PP: {<IN><NP>}               # Chunk prepositions followed by NP\n",
    "      VP: {<VB.*><NP|PP|CLAUSE>+$} # Chunk verbs and their arguments\n",
    "      CLAUSE: {<NP><VP>}           # Chunk NP, VP\n",
    "      \"\"\"\n",
    "cp = nltk.RegexpParser(grammar, loop=2)\n",
    "def generate_dependency_features(instance, relation, sentence):\n",
    "    tree = cp.parse([(x[0], x[1]) for x in sentence])\n",
    "    node1_position = tree.leaf_treeposition(relation[0][0])\n",
    "    node2_position = tree.leaf_treeposition(relation[1][0])\n",
    "    instance[\"tree_distance\"] = len(node1_position) + len(node2_position)\n",
    "    \n",
    "def generate_dependency_features2(instance, relation, sentence):\n",
    "    tree = cp.parse([(x[0], x[1]) for x in sentence])\n",
    "    node1_position = tree.leaf_treeposition(relation[0][0])\n",
    "    node2_position = tree.leaf_treeposition(relation[1][0])\n",
    "    instance[\"NE1_tree_depth\"] = len(node1_position)\n",
    "    instance[\"NE2_tree_depth\"] = len(node2_position)\n",
    "    \n",
    "def generate_dependency_features3(instance, relation, sentence):\n",
    "    tree = cp.parse([(x[0], x[1]) for x in sentence])\n",
    "    node1_position = tree.leaf_treeposition(relation[0][0])\n",
    "    node2_position = tree.leaf_treeposition(relation[1][0])\n",
    "    path = tree.label()\n",
    "    node1_position = list(node1_position)\n",
    "    del node1_position[-1]\n",
    "    node1_position = tuple(node1_position)\n",
    "    path_list = []\n",
    "    while len(node1_position) > 0:\n",
    "        path_list.append(tree[node1_position].label())\n",
    "        node1_position = list(node1_position)\n",
    "        del node1_position[-1]\n",
    "        node1_position = tuple(node1_position)\n",
    "    for element in reversed(path_list):\n",
    "        path = element + \"-\" + path\n",
    "    node2_position = list(node2_position)\n",
    "    del node2_position[-1]\n",
    "    node2_position = tuple(node2_position)\n",
    "    path_list = []\n",
    "    while len(node2_position) > 0:\n",
    "        path_list.append(tree[node2_position].label())\n",
    "        node2_position = list(node2_position)\n",
    "        del node2_position[-1]\n",
    "        node2_position = tuple(node2_position)\n",
    "    for element in reversed(path_list):\n",
    "        path = path + \"-\" + element\n",
    "    lista = path.split(\"-\")\n",
    "    for i in range(len(lista)):\n",
    "        instance[\"path\" + str(i)] = lista[i]\n",
    "        \n",
    "def generate_similarity_features(instance, relation, sentence):\n",
    "    words_between = set()\n",
    "    for i in range(relation[0][0] + relation[0][1], relation[1][0]):\n",
    "        words_between.add(sentence[i][2].lower().encode(\"ascii\"))\n",
    "    distance = np.linalg.norm(mv.transform([list(words_between)])-mv.transform([[b\"acquire\", b\"buy\", b\"subsidiary\", b\"purchase\", b\"pay\"]]))\n",
    "    instance[\"word_d\"] = distance\n",
    "    \n",
    "def generate_contains_number_feature(instance, relation, sentence):\n",
    "    for i in range(len(sentence)):\n",
    "        try:\n",
    "            a = int(sentence[i][2])\n",
    "            instance[\"has_number\"] = True\n",
    "            return\n",
    "        except:\n",
    "            continue\n",
    "    instance[\"has_number\"] = False\n",
    "    \n",
    "def generate_verb_features(instance, relation, sentence):\n",
    "    verbs_between = set()\n",
    "    for i in range(relation[0][0] + relation[0][1], relation[1][0]):\n",
    "        if sentence[i][1].startswith(\"V\"):\n",
    "            verbs_between.add(sentence[i][1])\n",
    "    instance[\"verb_number\"] = len(verbs_between)\n",
    "    if len(verbs_between) > 0:\n",
    "        instance[\"verb\"] = verbs_between.pop()\n",
    "        \n",
    "def generate_verb_tense_features(instance, relation, sentence):\n",
    "    verbs_between = set()\n",
    "    for i in range(relation[0][0] + relation[0][1], relation[1][0]):\n",
    "        if sentence[i][1].startswith(\"V\"):\n",
    "            verbs_between.add(sentence[i][1])\n",
    "    for verb in verbs_between:\n",
    "        instance[\"verb_tense_\" + verb[-1]] = True"
   ]
  },
  {
   "cell_type": "markdown",
   "metadata": {},
   "source": [
    "## Model validation\n",
    "\n",
    "Nested k-fold cross validation implementation (hyperparameter optimization):"
   ]
  },
  {
   "cell_type": "code",
   "execution_count": 13,
   "metadata": {
    "collapsed": false
   },
   "outputs": [],
   "source": [
    "import numpy as np\n",
    "from sklearn.model_selection import GridSearchCV, StratifiedKFold, RandomizedSearchCV\n",
    "from sklearn.feature_extraction import DictVectorizer\n",
    "from sklearn.preprocessing import LabelEncoder\n",
    "from sklearn.svm import SVC\n",
    "from sklearn.linear_model import LogisticRegression\n",
    "from sklearn.ensemble import RandomForestClassifier\n",
    "from sklearn.ensemble import AdaBoostClassifier\n",
    "from sklearn.tree import DecisionTreeClassifier\n",
    "from sklearn.tree import ExtraTreeClassifier\n",
    "from sklearn.neighbors import KNeighborsClassifier\n",
    "from sklearn.pipeline import Pipeline\n",
    "from sklearn.cross_validation import train_test_split\n",
    "from sklearn.metrics import f1_score\n",
    "from sklearn.preprocessing import StandardScaler\n",
    "from scorer import f1_scorer\n",
    "import warnings\n",
    "warnings.filterwarnings('ignore')\n",
    "\n",
    "_encoder = LabelEncoder()\n",
    "_vectorizer = DictVectorizer(dtype=float, sparse=True)\n",
    "_scaler = StandardScaler(with_mean=False)\n",
    "\n",
    "def nltk_nested_kfold_cv(clf, param_grid, nltk_data, k1=5, k2=3):\n",
    "    X = _scaler.fit_transform(_vectorizer.fit_transform([x[0] for x in nltk_data]))\n",
    "    y = _encoder.fit_transform([x[1] for x in nltk_data])\n",
    "    return nested_kfold_cv(clf, param_grid, X, y, k1, k2)\n",
    "    \n",
    "#def f1_scorer(estimator, X, y):  #multithreading hack - function moved from interactive console (this) to scorer module\n",
    "#    y_predicted = estimator.predict(X)\n",
    "#    return f1_score(y, y_predicted, average=\"macro\")\n",
    "\n",
    "def nested_kfold_cv(clf, param_grid, X, y, k1=5, k2=3):\n",
    "    scores = []\n",
    "    kfold = StratifiedKFold(k1, shuffle=True)\n",
    "    for train_index, test_index in kfold.split(X, y):\n",
    "        X_train, y_train = X[train_index], y[train_index]\n",
    "        X_test, y_test = X[test_index], y[test_index]\n",
    "        #gridCV = GridSearchCV(estimator=clf, param_grid=param_grid, scoring=f1_scorer, cv=k2, n_jobs=4)\n",
    "        gridCV = RandomizedSearchCV(estimator=clf, param_distributions=param_grid, scoring=f1_scorer, cv=k2, n_jobs=4, verbose=10)\n",
    "        gridCV.fit(X_train, y_train)\n",
    "        scores.append((gridCV.score(X_test, y_test), gridCV.best_params_))\n",
    "    return np.array(scores)"
   ]
  },
  {
   "cell_type": "markdown",
   "metadata": {},
   "source": [
    "Sentences to features conversion. Some low count classes are replaced with similar classes to improve performance."
   ]
  },
  {
   "cell_type": "code",
   "execution_count": 15,
   "metadata": {
    "collapsed": false
   },
   "outputs": [
    {
     "name": "stdout",
     "output_type": "stream",
     "text": [
      "Number of examples:  10471\n"
     ]
    }
   ],
   "source": [
    "instances = []\n",
    "\n",
    "for sentence in data:\n",
    "    primjeri = generate_features(sentence)\n",
    "    instances.extend(primjeri)\n",
    "    \n",
    "for i in range(len(instances)):\n",
    "    if instances[i][1] == \"nationality\":\n",
    "        instances[i] = (instances[i][0], \"homeLocation\")\n",
    "    if instances[i][1] == \"memberOf\":\n",
    "        instances[i] = (instances[i][0], \"parentOrganization\")\n",
    "    if instances[i][1] == \"member\":\n",
    "        instances[i] = (instances[i][0], \"subOrganization\")\n",
    "    if instances[i][1] == \"knows\":\n",
    "        instances[i] = (instances[i][0], \"colleague\")\n",
    "    if instances[i][1] == \"isBrandOf\":\n",
    "        instances[i] = (instances[i][0], \"brand\")\n",
    "    \n",
    "all_classes = set([x[1] for x in instances])\n",
    "all_classes = list(all_classes)\n",
    "all_classes.remove(\"None\")\n",
    "        \n",
    "print(\"Number of examples: \", len(instances))"
   ]
  },
  {
   "cell_type": "markdown",
   "metadata": {},
   "source": [
    "Hyperparameter optimization for RandomForestClassifier:"
   ]
  },
  {
   "cell_type": "code",
   "execution_count": 25,
   "metadata": {
    "collapsed": false
   },
   "outputs": [
    {
     "name": "stdout",
     "output_type": "stream",
     "text": [
      "[[0.53899541038782373\n",
      "  {'max_depth': 100, 'n_jobs': -1, 'class_weight': 'balanced', 'max_features': 'sqrt', 'min_samples_leaf': 1, 'n_estimators': 191}]\n",
      " [0.55253560858505935\n",
      "  {'max_depth': None, 'n_jobs': -1, 'class_weight': 'balanced', 'max_features': None, 'min_samples_leaf': 1, 'n_estimators': 191}]\n",
      " [0.44201984469347311\n",
      "  {'max_depth': 40, 'n_jobs': -1, 'class_weight': 'balanced', 'max_features': None, 'min_samples_leaf': 6, 'n_estimators': 81}]\n",
      " [0.58479830524698695\n",
      "  {'max_depth': None, 'n_jobs': -1, 'class_weight': 'balanced', 'max_features': None, 'min_samples_leaf': 1, 'n_estimators': 291}]\n",
      " [0.50769781000032321\n",
      "  {'max_depth': 20, 'n_jobs': -1, 'class_weight': 'balanced', 'max_features': None, 'min_samples_leaf': 6, 'n_estimators': 121}]]\n"
     ]
    }
   ],
   "source": [
    "print(nltk_nested_kfold_cv(RandomForestClassifier(), {\"n_estimators\": [x for x in range(1, 305, 10)], \"max_depth\": [1, 5, 10, 20, 40, 70, 100, None], \"max_features\": [\"sqrt\", \"log2\", None], \"min_samples_leaf\": [x for x in range(1, 25, 5)], \"class_weight\": [\"balanced\"], \"n_jobs\": [-1]}, instances, 5, 3))"
   ]
  },
  {
   "cell_type": "markdown",
   "metadata": {},
   "source": [
    "Hyperparameter optimization for AdaBoostClassifier with DecisionTreeClassifier as base learner:"
   ]
  },
  {
   "cell_type": "code",
   "execution_count": 26,
   "metadata": {
    "collapsed": false
   },
   "outputs": [
    {
     "name": "stdout",
     "output_type": "stream",
     "text": [
      "[[0.54497601939429174\n",
      "  {'base_estimator__class_weight': 'balanced', 'n_estimators': 291, 'base_estimator__max_depth': 20, 'base_estimator__max_features': None}]\n",
      " [0.49316312213372121\n",
      "  {'base_estimator__class_weight': 'balanced', 'n_estimators': 131, 'base_estimator__max_features': None, 'base_estimator__max_depth': None}]\n",
      " [0.52469787541695456\n",
      "  {'base_estimator__class_weight': 'balanced', 'n_estimators': 271, 'base_estimator__max_features': None, 'base_estimator__max_depth': 20}]\n",
      " [0.63566307549535217\n",
      "  {'base_estimator__class_weight': 'balanced', 'n_estimators': 271, 'base_estimator__max_features': None, 'base_estimator__max_depth': None}]\n",
      " [0.61118677498163232\n",
      "  {'base_estimator__class_weight': 'balanced', 'n_estimators': 181, 'base_estimator__max_depth': 100, 'base_estimator__max_features': None}]]\n"
     ]
    }
   ],
   "source": [
    "print(nltk_nested_kfold_cv(AdaBoostClassifier(base_estimator=DecisionTreeClassifier()), {\"n_estimators\": [x for x in range(1, 305, 10)], \"base_estimator__max_depth\": [1, 5, 10, 20, 40, 70, 100, None], \"base_estimator__max_features\": [\"sqrt\", \"log2\", None], \"base_estimator__class_weight\": [\"balanced\"]}, instances, 5, 3))"
   ]
  },
  {
   "cell_type": "markdown",
   "metadata": {},
   "source": [
    "Hyperparameter optimization for KNeighborsClassifier:"
   ]
  },
  {
   "cell_type": "code",
   "execution_count": 45,
   "metadata": {
    "collapsed": false
   },
   "outputs": [
    {
     "name": "stdout",
     "output_type": "stream",
     "text": [
      "[[0.42137518207003877\n",
      "  {'weights': 'uniform', 'n_neighbors': 1, 'leaf_size': 10}]\n",
      " [0.40980862909140775\n",
      "  {'weights': 'distance', 'n_neighbors': 11, 'leaf_size': 10}]\n",
      " [0.34480792018886497\n",
      "  {'weights': 'uniform', 'n_neighbors': 1, 'leaf_size': 10}]\n",
      " [0.35191906424414748\n",
      "  {'weights': 'distance', 'n_neighbors': 11, 'leaf_size': 10}]\n",
      " [0.39271893385125961\n",
      "  {'weights': 'uniform', 'n_neighbors': 1, 'leaf_size': 10}]]\n"
     ]
    }
   ],
   "source": [
    "print(nltk_nested_kfold_cv(KNeighborsClassifier(), {\"n_neighbors\": [x for x in range(1, 150, 10)], \"weights\": [\"uniform\", \"distance\"], \"leaf_size\": [x for x in range(10, 105, 20)]}, instances, 5, 3))"
   ]
  },
  {
   "cell_type": "code",
   "execution_count": 27,
   "metadata": {
    "collapsed": false
   },
   "outputs": [
    {
     "name": "stdout",
     "output_type": "stream",
     "text": [
      "[[0.4464360601226286\n",
      "  {'kernel': 'linear', 'C': 4, 'class_weight': 'balanced'}]\n",
      " [0.42466127621605682\n",
      "  {'kernel': 'linear', 'C': 1, 'class_weight': 'balanced'}]\n",
      " [0.43384798762700816\n",
      "  {'kernel': 'linear', 'C': 4, 'class_weight': 'balanced'}]\n",
      " [0.50503441004572325\n",
      "  {'kernel': 'linear', 'C': 1024, 'class_weight': 'balanced'}]\n",
      " [0.47676639446902869\n",
      "  {'kernel': 'linear', 'C': 1024, 'class_weight': 'balanced'}]]\n"
     ]
    }
   ],
   "source": [
    "print(nltk_nested_kfold_cv(SVC(), {\"C\": [2**x for x in range(-10, 11, 2)], \"kernel\": [\"linear\"], \"class_weight\": [\"balanced\"]}, instances, 5, 3))"
   ]
  },
  {
   "cell_type": "code",
   "execution_count": null,
   "metadata": {
    "collapsed": false
   },
   "outputs": [
    {
     "name": "stdout",
     "output_type": "stream",
     "text": [
      "Fitting 3 folds for each of 10 candidates, totalling 30 fits\n"
     ]
    },
    {
     "name": "stderr",
     "output_type": "stream",
     "text": [
      "[Parallel(n_jobs=4)]: Done   5 tasks      | elapsed:   22.4s\n",
      "[Parallel(n_jobs=4)]: Done  10 tasks      | elapsed:   54.0s\n"
     ]
    }
   ],
   "source": [
    "print(nltk_nested_kfold_cv(SVC(), {\"C\": [2**x for x in range(-5, 6, 2)], \"kernel\": [\"poly\"], \"degree\": [x for x in range(1, 5, 1)], \"gamma\": [2**x for x in range(-5, 6, 2)], \"class_weight\": [\"balanced\"]}, instances, 5, 3))"
   ]
  },
  {
   "cell_type": "code",
   "execution_count": 26,
   "metadata": {
    "collapsed": false
   },
   "outputs": [
    {
     "name": "stdout",
     "output_type": "stream",
     "text": [
      "Fitting 3 folds for each of 10 candidates, totalling 30 fits\n"
     ]
    },
    {
     "name": "stderr",
     "output_type": "stream",
     "text": [
      "[Parallel(n_jobs=4)]: Done   5 tasks      | elapsed:  3.3min\n",
      "[Parallel(n_jobs=4)]: Done  10 tasks      | elapsed:  5.6min\n",
      "[Parallel(n_jobs=4)]: Done  17 tasks      | elapsed:  9.9min\n",
      "[Parallel(n_jobs=4)]: Done  27 out of  30 | elapsed: 12.0min remaining:  1.3min\n",
      "[Parallel(n_jobs=4)]: Done  30 out of  30 | elapsed: 13.8min finished\n"
     ]
    },
    {
     "name": "stdout",
     "output_type": "stream",
     "text": [
      "Fitting 3 folds for each of 10 candidates, totalling 30 fits\n"
     ]
    },
    {
     "name": "stderr",
     "output_type": "stream",
     "text": [
      "[Parallel(n_jobs=4)]: Done   5 tasks      | elapsed:  2.1min\n",
      "[Parallel(n_jobs=4)]: Done  10 tasks      | elapsed:  3.9min\n",
      "[Parallel(n_jobs=4)]: Done  17 tasks      | elapsed:  7.3min\n",
      "[Parallel(n_jobs=4)]: Done  27 out of  30 | elapsed: 10.1min remaining:  1.1min\n",
      "[Parallel(n_jobs=4)]: Done  30 out of  30 | elapsed: 10.2min finished\n"
     ]
    },
    {
     "name": "stdout",
     "output_type": "stream",
     "text": [
      "Fitting 3 folds for each of 10 candidates, totalling 30 fits\n"
     ]
    },
    {
     "name": "stderr",
     "output_type": "stream",
     "text": [
      "[Parallel(n_jobs=4)]: Done   5 tasks      | elapsed:  2.8min\n",
      "[Parallel(n_jobs=4)]: Done  10 tasks      | elapsed:  4.6min\n",
      "[Parallel(n_jobs=4)]: Done  17 tasks      | elapsed:  7.1min\n",
      "[Parallel(n_jobs=4)]: Done  27 out of  30 | elapsed: 11.6min remaining:  1.3min\n",
      "[Parallel(n_jobs=4)]: Done  30 out of  30 | elapsed: 12.8min finished\n"
     ]
    },
    {
     "name": "stdout",
     "output_type": "stream",
     "text": [
      "Fitting 3 folds for each of 10 candidates, totalling 30 fits\n"
     ]
    },
    {
     "name": "stderr",
     "output_type": "stream",
     "text": [
      "[Parallel(n_jobs=4)]: Done   5 tasks      | elapsed:  1.3min\n",
      "[Parallel(n_jobs=4)]: Done  10 tasks      | elapsed:  3.7min\n",
      "[Parallel(n_jobs=4)]: Done  17 tasks      | elapsed:  7.7min\n",
      "[Parallel(n_jobs=4)]: Done  27 out of  30 | elapsed: 13.1min remaining:  1.5min\n",
      "[Parallel(n_jobs=4)]: Done  30 out of  30 | elapsed: 13.7min finished\n"
     ]
    },
    {
     "name": "stdout",
     "output_type": "stream",
     "text": [
      "Fitting 3 folds for each of 10 candidates, totalling 30 fits\n"
     ]
    },
    {
     "name": "stderr",
     "output_type": "stream",
     "text": [
      "[Parallel(n_jobs=4)]: Done   5 tasks      | elapsed:  1.9min\n",
      "[Parallel(n_jobs=4)]: Done  10 tasks      | elapsed:  3.3min\n",
      "[Parallel(n_jobs=4)]: Done  17 tasks      | elapsed:  6.2min\n",
      "[Parallel(n_jobs=4)]: Done  27 out of  30 | elapsed:  9.1min remaining:  1.0min\n",
      "[Parallel(n_jobs=4)]: Done  30 out of  30 | elapsed:  9.3min finished\n"
     ]
    },
    {
     "name": "stdout",
     "output_type": "stream",
     "text": [
      "[[0.4543954857697467\n",
      "  {'class_weight': 'balanced', 'kernel': 'rbf', 'gamma': 0.015625, 'C': 256}]\n",
      " [0.46165245114902076\n",
      "  {'class_weight': 'balanced', 'C': 4, 'gamma': 0.015625, 'kernel': 'rbf'}]\n",
      " [0.49127769846810282\n",
      "  {'class_weight': 'balanced', 'gamma': 0.015625, 'kernel': 'rbf', 'C': 256}]\n",
      " [0.51079248466026062\n",
      "  {'class_weight': 'balanced', 'C': 1024, 'gamma': 0.00390625, 'kernel': 'rbf'}]\n",
      " [0.5121151118134043\n",
      "  {'class_weight': 'balanced', 'kernel': 'rbf', 'gamma': 0.00390625, 'C': 16}]]\n"
     ]
    }
   ],
   "source": [
    "print(nltk_nested_kfold_cv(SVC(), {\"C\": [2**x for x in range(-10, 11, 2)], \"kernel\": [\"rbf\"], \"gamma\": [2**x for x in range(-10, 11, 2)], \"class_weight\": [\"balanced\"]}, instances, 5, 3))"
   ]
  },
  {
   "cell_type": "markdown",
   "metadata": {},
   "source": [
    "K-fold cross validation for chosen model and its hyperparameters:"
   ]
  },
  {
   "cell_type": "code",
   "execution_count": 12,
   "metadata": {
    "collapsed": false
   },
   "outputs": [
    {
     "name": "stdout",
     "output_type": "stream",
     "text": [
      "Total F1 score:  0.564338617389 \n",
      "\n",
      "F1 scores per class:\n",
      "containedInPlace 0.649526994744\n",
      "children 0.769523809524\n",
      "containsPlace 0.18\n",
      "location 0.607506933223\n",
      "subOrganization 0.316086575849\n",
      "homeLocation 0.718265209571\n",
      "parentOrganization 0.190588235294\n",
      "spouse 0.595555555556\n",
      "colleague 0.650660161764\n",
      "relatedTo 0.271196581197\n",
      "parent 0.564761904762\n",
      "brand 0.75315942029\n",
      "employee 0.693377086562\n"
     ]
    }
   ],
   "source": [
    "from collections import defaultdict\n",
    "\n",
    "X = _vectorizer.fit_transform([x[0] for x in instances])\n",
    "y = _encoder.fit_transform([x[1] for x in instances])\n",
    "X = _scaler.fit_transform(X)\n",
    "\n",
    "k = 5\n",
    "    \n",
    "kfold = StratifiedKFold(k, shuffle=True)\n",
    "max_score, best_clf = 0, None\n",
    "scores = []\n",
    "class_scores = defaultdict(list)\n",
    "for train_index, test_index in kfold.split(X, y):\n",
    "    X_train, y_train = X[train_index], y[train_index]\n",
    "    X_test, y_test = X[test_index], y[test_index]\n",
    "    clf = AdaBoostClassifier(base_estimator=DecisionTreeClassifier(max_depth=None, max_features=None, class_weight=\"balanced\"), n_estimators=180)\n",
    "    clf.fit(X_train, y_train)\n",
    "    y_predicted = _encoder.inverse_transform(clf.predict(X_test))\n",
    "    y_test = _encoder.inverse_transform(y_test)\n",
    "    score = f1_score(y_test, y_predicted, average=\"macro\")\n",
    "    scores.append(score)\n",
    "    if score > max_score:\n",
    "        max_score = score\n",
    "        best_clf = clf\n",
    "    for c in all_classes:\n",
    "        class_scores[c].append(f1_score(y_test, y_predicted, average=\"macro\", labels=[c]))\n",
    "\n",
    "print(\"Total F1 score: \", sum(scores)/k, \"\\n\")\n",
    "print(\"F1 scores per class:\")\n",
    "for key, value in class_scores.items():\n",
    "    print(key, sum(np.array(value))/k)"
   ]
  },
  {
   "cell_type": "markdown",
   "metadata": {},
   "source": [
    "Saving the final model for usage:"
   ]
  },
  {
   "cell_type": "code",
   "execution_count": 308,
   "metadata": {
    "collapsed": false
   },
   "outputs": [],
   "source": [
    "import pickle\n",
    "\n",
    "clf = AdaBoostClassifier(base_estimator=DecisionTreeClassifier(max_depth=None, max_features=None, class_weight=\"balanced\"), n_estimators=180)\n",
    "clf.fit(X, y)\n",
    "pickle.dump((clf, _vectorizer, _encoder, _scaler), open(\"model.data\", \"wb\"))"
   ]
  }
 ],
 "metadata": {
  "anaconda-cloud": {},
  "kernelspec": {
   "display_name": "Python [default]",
   "language": "python",
   "name": "python3"
  },
  "language_info": {
   "codemirror_mode": {
    "name": "ipython",
    "version": 3
   },
   "file_extension": ".py",
   "mimetype": "text/x-python",
   "name": "python",
   "nbconvert_exporter": "python",
   "pygments_lexer": "ipython3",
   "version": "3.5.2"
  }
 },
 "nbformat": 4,
 "nbformat_minor": 1
}
